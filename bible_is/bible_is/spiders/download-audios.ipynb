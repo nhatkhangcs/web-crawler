{
 "cells": [
  {
   "cell_type": "code",
   "execution_count": 3,
   "metadata": {},
   "outputs": [],
   "source": [
    "import requests\n",
    "import subprocess"
   ]
  },
  {
   "cell_type": "code",
   "execution_count": 4,
   "metadata": {},
   "outputs": [],
   "source": [
    "NHATKHANG = [\n",
    "    \"https://content.cdn.dbp-prod.dbp4.org/audio/BDQDVS/BDQDVSN2DA/B01___01_Matthew_____BDQDVSN2DA.mp3?x-amz-transaction=149402&Expires=1679480021&Signature=QcHqYcU~7apAAQ1wduPbRQRMQC7p-Ndyd9NpsLG3IGZTv6loRsVjoPVp7K9dfF9U7UAh00w~earZWtNUojNqRFh7ERp6zherx6UHOfSl-gsgD5Z1whInuXf66hlbHrUxCbo6F1J1M-HepLDzxTWGFV-5ZRABPboloCaqa34hLGtPcYINhv15pvjykWJXgvnllzds2mlSzrLVnYYXtqK-LfSqfaqK477Ct6IXcXx-zzEFZXkaaFzWmOztJbPLV5Qayy1XO5RXU3-bvbyrMIyX30VDOAg9qUpE1AE3sbG6hiI91jhtCjgoxfpaYvjtGf4Tj3rph0PbiJcfp9eAo5RzhA__&Key-Pair-Id=APKAI4ULLVMANLYYPTLQ\",\n",
    "    \"https://content.cdn.dbp-prod.dbp4.org/audio/BDQDVS/BDQDVSN2DA/B01___02_Matthew_____BDQDVSN2DA.mp3?x-amz-transaction=4870515&Expires=1679480048&Signature=cUbz6dS6gLfjwQFVTRZ4fi52hrN5KC86~55bNW-Z2KCyUwcSbXXW~NAyqBEZJxF3krY5yDIxRHJxRiuZTwIc8oKyMdLk-awj6R2tnIMCFJLfaJSO5zHCEkaJWKurqTTUiA9KFJtfGQpp0JV~F4C-SRrTdML-jlmuRByi3xffx843vJV3uf4~BmxVqujtk7AW3M0FdrmD0PPPONbrUBqzQ-KHHdRCz6XGu0lv4l1v~-gri55Kh8DO5CPdHAKJLORV9JQPNOGUOhceh4048caBIzNUsDjx62dagETDXG0IVuzhn292jyOaSboa4seogjX4b0MS40HxP-0tShDcWPBPQA__&Key-Pair-Id=APKAI4ULLVMANLYYPTLQ\",\n",
    "    \"https://content.cdn.dbp-prod.dbp4.org/audio/BDQDVS/BDQDVSN2DA/B01___03_Matthew_____BDQDVSN2DA.mp3?x-amz-transaction=8930600&Expires=1679499130&Signature=Oy6C9~3uEOa~X2BW9Xp6JCZv8gvwrwzz62kNqqtEzwi24uSBpxg3TBPsqxYxjcfDe6nqSpHS49k7Wf8ggtAlRmPuWBKvyyX1bLPkDYqxo~Fy6YfhGmuIssx8NJpmCm8idrPi6dqodmOOCTeDrpFoJLXfrUxppjdTrW7OgEdZbu90QtkuCkRfd2~sjaTntBXoGtUzji5AKc9rne~qtJ60tX9Tr6rJ04dbRvO0PPIoMgyB1N7YE0cvIj0EDDjy6D6h-K1lvJnz75zwkcVg-KjiNXoMfyZOsMidD3UMg4XUBsahwGc9BxIVROTAD0FimiWdCejoRDcSnH5bA-g46oDRdw__&Key-Pair-Id=APKAI4ULLVMANLYYPTLQ\",\n",
    "    \"https://content.cdn.dbp-prod.dbp4.org/audio/BDQDVS/BDQDVSN2DA/B01___04_Matthew_____BDQDVSN2DA.mp3?x-amz-transaction=1436663&Expires=1679499158&Signature=X5Pmrhu2CP9zvFPcEP~CdGPyUlfYkNTxxlvHEMl2IVn6aq-5VIfvEbqQFFFYUqnWxMnbfvxCG7FtF98vYLXsZurYoTp2IG6pIO~dLCvio40PgYCqaGwksLxQiqRSFEI~g6ZJkBz31YUxxtjmagw5QQUS~060zO4XaT~CHJZbpxe1Wk328PsQri26H6Es-XBUZRY2C~KfHWYj3vOTxgJUpeqVBJi4JMe55YJ0HWdGx107OtQmpO1eop2P5p~JskmEmKFRZCEoSRclF33SSjzEbF0NhFGhPxTERT92IgDePghpz8rokir56KICBzUrgQhMBdYKwiwN5WGeMbCb9AwNkw__&Key-Pair-Id=APKAI4ULLVMANLYYPTLQ\",\n",
    "    \"https://content.cdn.dbp-prod.dbp4.org/audio/BDQDVS/BDQDVSN2DA/B01___05_Matthew_____BDQDVSN2DA.mp3?x-amz-transaction=1785000&Expires=1679499309&Signature=IOpUg91StWq9ErFSqmzYGkEEmROqtkkzeNX8U2O1ccJYYIFo0LEK5XF-s5UNgJSKFF5CTZXkCKVkBjnbg94c-2OZtTqcGOZI9SYQr2Q1v0bmjlxJGm8BuRdTPh9K7HTEF4fTHEUOlTxD~~nWlsLs1AVXGhfKhqBAAo1dyHkOvohrmYzNYJqx6qz3mFII2lIPPAjIpIkfuXrjOgMDDJdSzCuydTRzIjmtfLYL1vQhpseBvBno4qxicbyUkK0D9lQZHjrLWAtfwn1Pf7g4M37pSRwlH4AHrtDrqsjXhNccAd0qssVLXA6XAhyjpebZYV4nESjiNGo0-oZrYsj-6-eSIw__&Key-Pair-Id=APKAI4ULLVMANLYYPTLQ\",\n",
    "    \"https://content.cdn.dbp-prod.dbp4.org/audio/BDQDVS/BDQDVSN2DA/B01___06_Matthew_____BDQDVSN2DA.mp3?x-amz-transaction=4951395&Expires=1679499350&Signature=fNz8kGMlHmP1OEin-CHSsTBtfEoJPlkps7u-5x7B8xfbrpzvojVFyDMLmX22ERwU2ZRQu7MOxBRMbbXZ7Rinsx4xNscTMrfbU1eO5E0VM5PlJXEY7nK6x~6opmJRawNLl~gf0XrrscENGu7YzFc0I35vXk6x6NwoilvGSSrjjLMXW-EovPTNavqRVbH4caNlAgWgbEzEriDKxXjG02XlO1Bvd-CSqKeL31Rr63naxewC1Uu1njS6NMa~mYD5AQ4DW6LtNdJvT~bGhGklDlnLiJJ-Z8XuehKPrg25BhpaP6-om-ibCjijP32JUGO5jTFGeQi2GaHN-dq9r0CsTOmUpQ__&Key-Pair-Id=APKAI4ULLVMANLYYPTLQ\",\n",
    "    \"https://content.cdn.dbp-prod.dbp4.org/audio/BDQDVS/BDQDVSN2DA/B01___07_Matthew_____BDQDVSN2DA.mp3?x-amz-transaction=3174508&Expires=1679499376&Signature=flP2waHXjqycmJ1NdKQnCS4PIOcw8zaoOkbWNvIF9mtpLlB9appGZxaSrG3Zl5wKE3RgjNfzjOaebpPBdYsZredVJBVL6JLJ6IfZTOfvjtF6TO05ycs4ZjQHm5SFk-IISH5Fi7aBIgodWB5G0I8Av5qfZWOysPjVoJA1Di05r8bZXFdgo1Fc3WcSezTbbo5CsR9z7rCBg~iV9rjJ5wbZ-0oEdqqEDVeA~2A5TqaDb6CuvjCjxMyfIu~6O5ZTHtEncPYZUwk-xWpO4c38mjTWeJvRz0yTUFgjMNqBX24CYKIm3ybbfuku1XrfL-8-G2dFimScRRxl2uyPnlHeLCe50A__&Key-Pair-Id=APKAI4ULLVMANLYYPTLQ\",\n",
    "    \"https://content.cdn.dbp-prod.dbp4.org/audio/BDQDVS/BDQDVSN2DA/B01___08_Matthew_____BDQDVSN2DA.mp3?x-amz-transaction=8704569&Expires=1679499419&Signature=Kt4sTRx2zJmgQKSXz693aNQHySnRBSzhvbDEy8QybJ8TR2B9AFzp0CuarYCvMoOcG5fVwUqM6gblXW7uyxTyUwNDdn7Oh9j1aU2Zanzl5l61DgvD3T~Vm~bfxIgAIgr~nhFjSUv9Rl~rV8tYQx~W1W1RmcsSZTLJPIWSgP7s2V9YmcGxz~vh7zhNtI8t5vk3~8-vxe6WA~ERdjfXljDnqbeCd3d5bGRfEaJHuZl8~GqliddaXXNWnRlkyrYwjoNERrHpv9zRFneErTJGdSdlZZs6fODepZhRj7VSHTxBnjshq4n1HK3T~vx6JrjqGoPdWk04IL8XvCIeVYDpA-CvRQ__&Key-Pair-Id=APKAI4ULLVMANLYYPTLQ\",\n",
    "    \"https://content.cdn.dbp-prod.dbp4.org/audio/BDQDVS/BDQDVSN2DA/B01___09_Matthew_____BDQDVSN2DA.mp3?x-amz-transaction=9964997&Expires=1679499438&Signature=QTqjMH~HeNqzw181kkTbLAosxkP1rqVPALT~rNjhJKLJsuXRAw~cfZbzkP7kfOBUlRXv0xYpKn1joZV2t3ZVIU4LrZc1Sp~FFyj14DQoaAo4iQGryywfRVYCr0zu22X~~W5zmE0GgsKN-XFT5pdel0uUOybt3t~vByRzR7I9bfRUhg2Z706UXAow3YORCyq3vQm3PKm-wWublP6PNianf7tB~Cu5WQXUxGVvSh~TQtjXRgKZtiB0ncdWAtKR7xmtfIi0watRsDUQ5H68EAiKbQWlxI~IMyqXR73UESJ6kHvV2ni5xvbZ9EN~iQdeQis9GXxwQfNUsnVLODd4Yaluww__&Key-Pair-Id=APKAI4ULLVMANLYYPTLQ\",\n",
    "    \"https://content.cdn.dbp-prod.dbp4.org/audio/BDQDVS/BDQDVSN2DA/B01___10_Matthew_____BDQDVSN2DA.mp3?x-amz-transaction=4405463&Expires=1679499452&Signature=M82RKnf0o9SQEmrBmS7a2DTecrNWtQK9SPxzdypRPRzaXcoajOxk9ydJhv0YNGA88mUhwt5cmp5idtL6~4WgcywGIkEveUolrfjvymRNP7l65Ba8UCD7~oxzvNyoNiqmv0lGXnLRh~-JHk883RU0p5hxsu~-BnE~P55mTKRWaUDGHuT-0i4V-6hGPZc7qSlFnF~w4rkwwSoP7I-DyPovwJ6brh8Q7nCzV4XyOLdML1KzDsNm8N0Z3FJuAQW4OKTGh6MLG9ZbhM~ob3YeHBZYf3Jst~6RcggL~jSBP3zxDzeywprrXKA-f4SNymVwwsxAhc9XLR2sQjvLhIu3tK6X2Q__&Key-Pair-Id=APKAI4ULLVMANLYYPTLQ\",\n",
    "    \"https://content.cdn.dbp-prod.dbp4.org/audio/BDQDVS/BDQDVSN2DA/B01___11_Matthew_____BDQDVSN2DA.mp3?x-amz-transaction=1225716&Expires=1679499463&Signature=PM9E~n4Y57bb2SJe4FA0nFZ5iGE3gB~eyRqj1apppdZNYo6xA1f73sBUShFBt7opQcpPkK~UKqhwFclwYKXXVSoV0VyaAqtaobtkd4XWM-bwMHhhhWEotiypFRK2CLykEOsDmeuHj2jM03AKoJCsTo7wOkDMa-h7WBXFodXUe1mzHMMmYHpr2rB~WGj6TZ4AztbnGmJQEfewgWvtxFec9OcavBsJQkCqVJr994iUlQw-W-Jpyy6G7aJK05pJs4Byk0djgK-WDpSeqvX8-03eMXtpiRB2GIxqA~MBxxlghkLpXFmdVN~b59CFy5AXCSXky1bNKMvZtyn9WvH4ZJT3ow__&Key-Pair-Id=APKAI4ULLVMANLYYPTLQ\",\n",
    "    \"https://content.cdn.dbp-prod.dbp4.org/audio/BDQDVS/BDQDVSN2DA/B01___12_Matthew_____BDQDVSN2DA.mp3?x-amz-transaction=5565173&Expires=1679499473&Signature=cjub0orZX-5fit7r0NGnrInrjFwS134k9VA~-r3X6ZB-wqH4djbHOs-uTjvbjKPlFBaaXvk1~O6selI9peAgqcIM8Lv4IHwj1s2LmkRXbT~QX8SrApu7JQanNlyKgDiTlpbm0hdta1i6nravTyWEw53vGqChRg625nYp5Jc3CL9FvY-5UcIx4-ZI-kqElez0iVV8m40l5a6SYJHl~ora71ErWa0kFLrHJxi8nnmLh578N0O-cQ77MkpY8fmSxF4e9~BZavIVFKvsMMpKEQce0bcHodEAqUa21bQzlTjmJyb7CDp0TR7NE3973at3miv3hUpi2GcFfww0egpFVuCTvQ__&Key-Pair-Id=APKAI4ULLVMANLYYPTLQ\",\n",
    "    \"https://content.cdn.dbp-prod.dbp4.org/audio/BDQDVS/BDQDVSN2DA/B01___13_Matthew_____BDQDVSN2DA.mp3?x-amz-transaction=8431555&Expires=1679499487&Signature=b1ANW4Qd2JHebGMoQVE78M7cy6h7wU8SypoVwDdH3S~9bqd8frWLXBjkOFbfoGLQ75IdayNjvT-qVNsqImtKwSY0G3frUe-MPCUUnLkZo6wGFqHoCQXvoFm1jYVbQCcDcPmvVSIs-0xrMIR9oVhQCskTQ2ob2ajBaFsdo-68xWc4e6c0cO-~6hmqBthX6EGYHHYmg0A9T5U7npXz2l1ecid51Cj0EP9vMTmi-Dqhwe2PZPz2Q4ofAqwbfWvslzQM1Q0STIIaqNGESzP~fhUTOEw~IkHITxrbnuZf4ccmqjpG10IU6Q63PqEdr9kPuCnF2iG52xe4D6jRdU5UIneihg__&Key-Pair-Id=APKAI4ULLVMANLYYPTLQ\",\n",
    "    \"https://content.cdn.dbp-prod.dbp4.org/audio/BDQDVS/BDQDVSN2DA/B01___14_Matthew_____BDQDVSN2DA.mp3?x-amz-transaction=4442143&Expires=1679499500&Signature=IXp2PG5-2jjiKJCZAfYxR3DyL9qu-b2thrEal0pJIhe0OY13T0btF97weatKwE9PEKpcWsPVSHos-uBYKJ8vGW1r~yVCQ~tgpR1c1FgnYu2feZwv-GUjYqXW4tJkpO1zh8jGKDZhqC--2q9jwdYaEDDfqhHpLgocHGfk8xit5ibDN-rIbOB04BVlRDS8ojNiJ78I751sosuwCgMJAI9h3WSJd4aBa4VPM1xwRYR2SIxf5d3~5ctX2-ygWpS1WtSV2xSosts0ZhuqP3qwoJrBGL80cIpY3oTtU16R27Z8dSH5INaKsoe9RC3GTfxXjhoyjV~R9b7WypkuO1MTYr9Wsw__&Key-Pair-Id=APKAI4ULLVMANLYYPTLQ\",\n",
    "    \"https://content.cdn.dbp-prod.dbp4.org/audio/BDQDVS/BDQDVSN2DA/B01___15_Matthew_____BDQDVSN2DA.mp3?x-amz-transaction=1546946&Expires=1679499511&Signature=SA42Ks1H~ozVbS6o53RfPkLLR98K3cPKQAlltrJWRfF-6NAcKX1BLuygfzUUGfDPPvmAyqTGkiM8pmIOAIthxWCfhQAhyaPSgCvteJAkqYjnIdGzm1-8Zc6zMWoYAAWShyZa8-EOEIF9fiBjCRD-uS9udnE9zp2LUG8W~yBdIPR82QXYEuHsoKysp~fxkOI61VsdVVMoBoOQ9-BWQ7TDQdgQoZ4Ml8GlFHRBZxTKlU-N36jewD1ymPJfMRil5Xnja2r-AJ8jSuKIwEh3InNRUoj8bwd0r48GunhrnzYLkS3A-QElVxQIPXaS5VVhAcBdgzm~zViqimS71SvQ4eQzkA__&Key-Pair-Id=APKAI4ULLVMANLYYPTLQ\",\n",
    "    \"https://content.cdn.dbp-prod.dbp4.org/audio/BDQDVS/BDQDVSN2DA/B01___16_Matthew_____BDQDVSN2DA.mp3?x-amz-transaction=7937632&Expires=1679499523&Signature=P9E0U5gZ1BBGCarAHLdwje6Tt1hjFdTInaYWtGwtVhlb4--TUe5rI9uuTdgwQ-7wGapuTrLiiis3hT74ZFjKwflF2EzwlWat3nHq0i~XBVQkIE6doofcpy7xZK5D7l~49~c5Cc5gKnwuRAqwVLV~cloJyZq2vBZA3kAJVvfxai6JdcbH9ZA7vP~dmo2-PrHLjZQV6waWCTsJK9aS51tjKdZZrGJO-PC4By~kYW8BNF21OgcZo7dgTny6VuRIsQ96PtNfTt9R3m0TW7w0sHJOw4nsB6-lYbvw4obQd1DG~YUEAabiWYc4tjvBOdY7D8plbBEfvF7ksClxokMXaC7mng__&Key-Pair-Id=APKAI4ULLVMANLYYPTLQ\",\n",
    "    \"https://content.cdn.dbp-prod.dbp4.org/audio/BDQDVS/BDQDVSN2DA/B01___17_Matthew_____BDQDVSN2DA.mp3?x-amz-transaction=3253337&Expires=1679499561&Signature=TnqHl-NjWleMXy6ks6DPjtPqr2TuXroqpI~lt1rfT~KlmwZEje2X0hYr1g7kAxI6B0EzUdXRuxKerYS6Q4KhJxjMzqxovCtQ0N37edNMFNRL1o7sR-6xEeYOQJB5BlyuaLXEgT-WL~ytp9cHaWYIr94aSQax2LU3OrebjgVEDCaV26GoMsIH35hTrgyiNezO74NQPi4sS5gbWtwO39fU-kAEdKe-lU7lwIj4Jgdfa9z5FE9-XLu7U8~PdZz0Rw2mmd2Ivuky7v-ByNd9NFPz-CBTu-DvpxM5BWsiGSYk-Y6arxCfO~jM8rv4SX5U9espYWGQYV8w9Et6YMPwVwh5Ww__&Key-Pair-Id=APKAI4ULLVMANLYYPTLQ\",\n",
    "    \"https://content.cdn.dbp-prod.dbp4.org/audio/BDQDVS/BDQDVSN2DA/B01___18_Matthew_____BDQDVSN2DA.mp3?x-amz-transaction=2173337&Expires=1679499609&Signature=Y7C~gmKKiU5tixTgGqqMUHuk5L4utLW2ztRKVQgmHeBtY7BCU6TAen3uNWBzoSVxNZ5vAm0JwgzJZ7JV95obDmltLfUR2rBdaCMvKo5AArBrzfflvCRg9bo4lbxQh1uzaeZMlXPxCZ3cjGJ~4wtHiQw6kg3msxk44PE0eIlrBWpNvs9JlpwuT8BSu7PzKWd9I6g11jeg5xIguwh8pM4GSNtcxlz-NSX1JGIp3Fw8wprxIn4ObXTVAPRmYLkMAi6B40~a94Zl~f8XTaD4kms~FqISADzzc7uBQfiqauvsC8whYwyXBSmaAuX2rCYq6XQX1BKLtozrFhunF~EqWfxChA__&Key-Pair-Id=APKAI4ULLVMANLYYPTLQ\",\n",
    "    \"\",\n",
    "    \"\",\n",
    "    \"\",\n",
    "    \"\",\n",
    "    \"\",\n",
    "    \"\",\n",
    "    \"\",\n",
    "]"
   ]
  },
  {
   "cell_type": "code",
   "execution_count": 6,
   "metadata": {},
   "outputs": [
    {
     "ename": "MissingSchema",
     "evalue": "Invalid URL '': No scheme supplied. Perhaps you meant http://?",
     "output_type": "error",
     "traceback": [
      "\u001b[1;31m---------------------------------------------------------------------------\u001b[0m",
      "\u001b[1;31mMissingSchema\u001b[0m                             Traceback (most recent call last)",
      "\u001b[1;32me:\\SOFT\\General_Subjects\\artificial_intelligence\\colab-tts-Bahnar\\crawl-web\\bible_is\\bible_is\\spiders\\download-audios.ipynb Cell 3\u001b[0m in \u001b[0;36m<cell line: 2>\u001b[1;34m()\u001b[0m\n\u001b[0;32m      <a href='vscode-notebook-cell:/e%3A/SOFT/General_Subjects/artificial_intelligence/colab-tts-Bahnar/crawl-web/bible_is/bible_is/spiders/download-audios.ipynb#W1sZmlsZQ%3D%3D?line=0'>1</a>\u001b[0m i \u001b[39m=\u001b[39m \u001b[39m1\u001b[39m\n\u001b[0;32m      <a href='vscode-notebook-cell:/e%3A/SOFT/General_Subjects/artificial_intelligence/colab-tts-Bahnar/crawl-web/bible_is/bible_is/spiders/download-audios.ipynb#W1sZmlsZQ%3D%3D?line=1'>2</a>\u001b[0m \u001b[39mfor\u001b[39;00m url \u001b[39min\u001b[39;00m NHATKHANG:\n\u001b[1;32m----> <a href='vscode-notebook-cell:/e%3A/SOFT/General_Subjects/artificial_intelligence/colab-tts-Bahnar/crawl-web/bible_is/bible_is/spiders/download-audios.ipynb#W1sZmlsZQ%3D%3D?line=2'>3</a>\u001b[0m     response \u001b[39m=\u001b[39m requests\u001b[39m.\u001b[39;49mget(url)\n\u001b[0;32m      <a href='vscode-notebook-cell:/e%3A/SOFT/General_Subjects/artificial_intelligence/colab-tts-Bahnar/crawl-web/bible_is/bible_is/spiders/download-audios.ipynb#W1sZmlsZQ%3D%3D?line=4'>5</a>\u001b[0m     \u001b[39m# Save the downloaded content to a file on disk\u001b[39;00m\n\u001b[0;32m      <a href='vscode-notebook-cell:/e%3A/SOFT/General_Subjects/artificial_intelligence/colab-tts-Bahnar/crawl-web/bible_is/bible_is/spiders/download-audios.ipynb#W1sZmlsZQ%3D%3D?line=5'>6</a>\u001b[0m     \u001b[39mwith\u001b[39;00m \u001b[39mopen\u001b[39m(\u001b[39mf\u001b[39m\u001b[39m\"\u001b[39m\u001b[39maudios/audio\u001b[39m\u001b[39m{\u001b[39;00mi\u001b[39m}\u001b[39;00m\u001b[39m.mp3\u001b[39m\u001b[39m\"\u001b[39m, \u001b[39m'\u001b[39m\u001b[39mwb\u001b[39m\u001b[39m'\u001b[39m) \u001b[39mas\u001b[39;00m f:\n",
      "File \u001b[1;32m~\\AppData\\Local\\Packages\\PythonSoftwareFoundation.Python.3.10_qbz5n2kfra8p0\\LocalCache\\local-packages\\Python310\\site-packages\\requests\\api.py:73\u001b[0m, in \u001b[0;36mget\u001b[1;34m(url, params, **kwargs)\u001b[0m\n\u001b[0;32m     62\u001b[0m \u001b[39mdef\u001b[39;00m \u001b[39mget\u001b[39m(url, params\u001b[39m=\u001b[39m\u001b[39mNone\u001b[39;00m, \u001b[39m*\u001b[39m\u001b[39m*\u001b[39mkwargs):\n\u001b[0;32m     63\u001b[0m     \u001b[39mr\u001b[39m\u001b[39m\"\"\"Sends a GET request.\u001b[39;00m\n\u001b[0;32m     64\u001b[0m \n\u001b[0;32m     65\u001b[0m \u001b[39m    :param url: URL for the new :class:`Request` object.\u001b[39;00m\n\u001b[1;32m   (...)\u001b[0m\n\u001b[0;32m     70\u001b[0m \u001b[39m    :rtype: requests.Response\u001b[39;00m\n\u001b[0;32m     71\u001b[0m \u001b[39m    \"\"\"\u001b[39;00m\n\u001b[1;32m---> 73\u001b[0m     \u001b[39mreturn\u001b[39;00m request(\u001b[39m\"\u001b[39m\u001b[39mget\u001b[39m\u001b[39m\"\u001b[39m, url, params\u001b[39m=\u001b[39mparams, \u001b[39m*\u001b[39m\u001b[39m*\u001b[39mkwargs)\n",
      "File \u001b[1;32m~\\AppData\\Local\\Packages\\PythonSoftwareFoundation.Python.3.10_qbz5n2kfra8p0\\LocalCache\\local-packages\\Python310\\site-packages\\requests\\api.py:59\u001b[0m, in \u001b[0;36mrequest\u001b[1;34m(method, url, **kwargs)\u001b[0m\n\u001b[0;32m     55\u001b[0m \u001b[39m# By using the 'with' statement we are sure the session is closed, thus we\u001b[39;00m\n\u001b[0;32m     56\u001b[0m \u001b[39m# avoid leaving sockets open which can trigger a ResourceWarning in some\u001b[39;00m\n\u001b[0;32m     57\u001b[0m \u001b[39m# cases, and look like a memory leak in others.\u001b[39;00m\n\u001b[0;32m     58\u001b[0m \u001b[39mwith\u001b[39;00m sessions\u001b[39m.\u001b[39mSession() \u001b[39mas\u001b[39;00m session:\n\u001b[1;32m---> 59\u001b[0m     \u001b[39mreturn\u001b[39;00m session\u001b[39m.\u001b[39mrequest(method\u001b[39m=\u001b[39mmethod, url\u001b[39m=\u001b[39murl, \u001b[39m*\u001b[39m\u001b[39m*\u001b[39mkwargs)\n",
      "File \u001b[1;32m~\\AppData\\Local\\Packages\\PythonSoftwareFoundation.Python.3.10_qbz5n2kfra8p0\\LocalCache\\local-packages\\Python310\\site-packages\\requests\\sessions.py:573\u001b[0m, in \u001b[0;36mSession.request\u001b[1;34m(self, method, url, params, data, headers, cookies, files, auth, timeout, allow_redirects, proxies, hooks, stream, verify, cert, json)\u001b[0m\n\u001b[0;32m    560\u001b[0m \u001b[39m# Create the Request.\u001b[39;00m\n\u001b[0;32m    561\u001b[0m req \u001b[39m=\u001b[39m Request(\n\u001b[0;32m    562\u001b[0m     method\u001b[39m=\u001b[39mmethod\u001b[39m.\u001b[39mupper(),\n\u001b[0;32m    563\u001b[0m     url\u001b[39m=\u001b[39murl,\n\u001b[1;32m   (...)\u001b[0m\n\u001b[0;32m    571\u001b[0m     hooks\u001b[39m=\u001b[39mhooks,\n\u001b[0;32m    572\u001b[0m )\n\u001b[1;32m--> 573\u001b[0m prep \u001b[39m=\u001b[39m \u001b[39mself\u001b[39;49m\u001b[39m.\u001b[39;49mprepare_request(req)\n\u001b[0;32m    575\u001b[0m proxies \u001b[39m=\u001b[39m proxies \u001b[39mor\u001b[39;00m {}\n\u001b[0;32m    577\u001b[0m settings \u001b[39m=\u001b[39m \u001b[39mself\u001b[39m\u001b[39m.\u001b[39mmerge_environment_settings(\n\u001b[0;32m    578\u001b[0m     prep\u001b[39m.\u001b[39murl, proxies, stream, verify, cert\n\u001b[0;32m    579\u001b[0m )\n",
      "File \u001b[1;32m~\\AppData\\Local\\Packages\\PythonSoftwareFoundation.Python.3.10_qbz5n2kfra8p0\\LocalCache\\local-packages\\Python310\\site-packages\\requests\\sessions.py:484\u001b[0m, in \u001b[0;36mSession.prepare_request\u001b[1;34m(self, request)\u001b[0m\n\u001b[0;32m    481\u001b[0m     auth \u001b[39m=\u001b[39m get_netrc_auth(request\u001b[39m.\u001b[39murl)\n\u001b[0;32m    483\u001b[0m p \u001b[39m=\u001b[39m PreparedRequest()\n\u001b[1;32m--> 484\u001b[0m p\u001b[39m.\u001b[39;49mprepare(\n\u001b[0;32m    485\u001b[0m     method\u001b[39m=\u001b[39;49mrequest\u001b[39m.\u001b[39;49mmethod\u001b[39m.\u001b[39;49mupper(),\n\u001b[0;32m    486\u001b[0m     url\u001b[39m=\u001b[39;49mrequest\u001b[39m.\u001b[39;49murl,\n\u001b[0;32m    487\u001b[0m     files\u001b[39m=\u001b[39;49mrequest\u001b[39m.\u001b[39;49mfiles,\n\u001b[0;32m    488\u001b[0m     data\u001b[39m=\u001b[39;49mrequest\u001b[39m.\u001b[39;49mdata,\n\u001b[0;32m    489\u001b[0m     json\u001b[39m=\u001b[39;49mrequest\u001b[39m.\u001b[39;49mjson,\n\u001b[0;32m    490\u001b[0m     headers\u001b[39m=\u001b[39;49mmerge_setting(\n\u001b[0;32m    491\u001b[0m         request\u001b[39m.\u001b[39;49mheaders, \u001b[39mself\u001b[39;49m\u001b[39m.\u001b[39;49mheaders, dict_class\u001b[39m=\u001b[39;49mCaseInsensitiveDict\n\u001b[0;32m    492\u001b[0m     ),\n\u001b[0;32m    493\u001b[0m     params\u001b[39m=\u001b[39;49mmerge_setting(request\u001b[39m.\u001b[39;49mparams, \u001b[39mself\u001b[39;49m\u001b[39m.\u001b[39;49mparams),\n\u001b[0;32m    494\u001b[0m     auth\u001b[39m=\u001b[39;49mmerge_setting(auth, \u001b[39mself\u001b[39;49m\u001b[39m.\u001b[39;49mauth),\n\u001b[0;32m    495\u001b[0m     cookies\u001b[39m=\u001b[39;49mmerged_cookies,\n\u001b[0;32m    496\u001b[0m     hooks\u001b[39m=\u001b[39;49mmerge_hooks(request\u001b[39m.\u001b[39;49mhooks, \u001b[39mself\u001b[39;49m\u001b[39m.\u001b[39;49mhooks),\n\u001b[0;32m    497\u001b[0m )\n\u001b[0;32m    498\u001b[0m \u001b[39mreturn\u001b[39;00m p\n",
      "File \u001b[1;32m~\\AppData\\Local\\Packages\\PythonSoftwareFoundation.Python.3.10_qbz5n2kfra8p0\\LocalCache\\local-packages\\Python310\\site-packages\\requests\\models.py:368\u001b[0m, in \u001b[0;36mPreparedRequest.prepare\u001b[1;34m(self, method, url, headers, files, data, params, auth, cookies, hooks, json)\u001b[0m\n\u001b[0;32m    365\u001b[0m \u001b[39m\"\"\"Prepares the entire request with the given parameters.\"\"\"\u001b[39;00m\n\u001b[0;32m    367\u001b[0m \u001b[39mself\u001b[39m\u001b[39m.\u001b[39mprepare_method(method)\n\u001b[1;32m--> 368\u001b[0m \u001b[39mself\u001b[39;49m\u001b[39m.\u001b[39;49mprepare_url(url, params)\n\u001b[0;32m    369\u001b[0m \u001b[39mself\u001b[39m\u001b[39m.\u001b[39mprepare_headers(headers)\n\u001b[0;32m    370\u001b[0m \u001b[39mself\u001b[39m\u001b[39m.\u001b[39mprepare_cookies(cookies)\n",
      "File \u001b[1;32m~\\AppData\\Local\\Packages\\PythonSoftwareFoundation.Python.3.10_qbz5n2kfra8p0\\LocalCache\\local-packages\\Python310\\site-packages\\requests\\models.py:439\u001b[0m, in \u001b[0;36mPreparedRequest.prepare_url\u001b[1;34m(self, url, params)\u001b[0m\n\u001b[0;32m    436\u001b[0m     \u001b[39mraise\u001b[39;00m InvalidURL(\u001b[39m*\u001b[39me\u001b[39m.\u001b[39margs)\n\u001b[0;32m    438\u001b[0m \u001b[39mif\u001b[39;00m \u001b[39mnot\u001b[39;00m scheme:\n\u001b[1;32m--> 439\u001b[0m     \u001b[39mraise\u001b[39;00m MissingSchema(\n\u001b[0;32m    440\u001b[0m         \u001b[39mf\u001b[39m\u001b[39m\"\u001b[39m\u001b[39mInvalid URL \u001b[39m\u001b[39m{\u001b[39;00murl\u001b[39m!r}\u001b[39;00m\u001b[39m: No scheme supplied. \u001b[39m\u001b[39m\"\u001b[39m\n\u001b[0;32m    441\u001b[0m         \u001b[39mf\u001b[39m\u001b[39m\"\u001b[39m\u001b[39mPerhaps you meant http://\u001b[39m\u001b[39m{\u001b[39;00murl\u001b[39m}\u001b[39;00m\u001b[39m?\u001b[39m\u001b[39m\"\u001b[39m\n\u001b[0;32m    442\u001b[0m     )\n\u001b[0;32m    444\u001b[0m \u001b[39mif\u001b[39;00m \u001b[39mnot\u001b[39;00m host:\n\u001b[0;32m    445\u001b[0m     \u001b[39mraise\u001b[39;00m InvalidURL(\u001b[39mf\u001b[39m\u001b[39m\"\u001b[39m\u001b[39mInvalid URL \u001b[39m\u001b[39m{\u001b[39;00murl\u001b[39m!r}\u001b[39;00m\u001b[39m: No host supplied\u001b[39m\u001b[39m\"\u001b[39m)\n",
      "\u001b[1;31mMissingSchema\u001b[0m: Invalid URL '': No scheme supplied. Perhaps you meant http://?"
     ]
    }
   ],
   "source": [
    "i = 1\n",
    "for url in NHATKHANG:\n",
    "    response = requests.get(url)\n",
    "    \n",
    "    # Save the downloaded content to a file on disk\n",
    "    with open(f\"audios/audio{i}.mp3\", 'wb') as f:\n",
    "        f.write(response.content)\n",
    "\n",
    "    i = i + 1\n",
    "    # Convert the downloaded file to a desired format (e.g. WAV)"
   ]
  }
 ],
 "metadata": {
  "kernelspec": {
   "display_name": "Python 3",
   "language": "python",
   "name": "python3"
  },
  "language_info": {
   "codemirror_mode": {
    "name": "ipython",
    "version": 3
   },
   "file_extension": ".py",
   "mimetype": "text/x-python",
   "name": "python",
   "nbconvert_exporter": "python",
   "pygments_lexer": "ipython3",
   "version": "3.10.10"
  },
  "orig_nbformat": 4
 },
 "nbformat": 4,
 "nbformat_minor": 2
}
