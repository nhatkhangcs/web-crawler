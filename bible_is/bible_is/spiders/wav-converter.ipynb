{
 "cells": [
  {
   "cell_type": "code",
   "execution_count": 1,
   "metadata": {},
   "outputs": [],
   "source": [
    "from pydub import AudioSegment\n",
    "import os"
   ]
  },
  {
   "cell_type": "code",
   "execution_count": 6,
   "metadata": {},
   "outputs": [],
   "source": [
    "MP3_BAHNARIC_FOLDER = \"audio/bahnaric/mp3\"\n",
    "WAV_BAHNARIC_FOLDER = \"audio/bahnaric/wav\""
   ]
  },
  {
   "cell_type": "code",
   "execution_count": 7,
   "metadata": {},
   "outputs": [],
   "source": [
    "# Loop through each file in the input directory\n",
    "for filename in os.listdir(MP3_BAHNARIC_FOLDER):\n",
    "    # Check if the file is an mp3\n",
    "    if filename.endswith(\".mp3\"):\n",
    "        # Load the mp3 file with pydub\n",
    "        sound = AudioSegment.from_mp3(os.path.join(MP3_BAHNARIC_FOLDER, filename))\n",
    "        # Create the name for the output file (replace \".mp3\" with \".wav\")\n",
    "        output_name = os.path.splitext(filename)[0] + \".wav\"\n",
    "        # Save the wav file to the output directory\n",
    "        sound.export(os.path.join(WAV_BAHNARIC_FOLDER, output_name), format=\"wav\")"
   ]
  },
  {
   "cell_type": "code",
   "execution_count": 4,
   "metadata": {},
   "outputs": [],
   "source": [
    "MP3_VIE_FOLDER = \"audio/vietnamese/mp3\"\n",
    "WAV_VIE_FOLDER = \"audio/vietnamese/wav\""
   ]
  },
  {
   "cell_type": "code",
   "execution_count": 5,
   "metadata": {},
   "outputs": [],
   "source": [
    "# Loop through each file in the input directory\n",
    "for filename in os.listdir(MP3_VIE_FOLDER):\n",
    "    # Check if the file is an mp3\n",
    "    if filename.endswith(\".mp3\"):\n",
    "        # Load the mp3 file with pydub\n",
    "        sound = AudioSegment.from_mp3(os.path.join(MP3_VIE_FOLDER, filename))\n",
    "        # Create the name for the output file (replace \".mp3\" with \".wav\")\n",
    "        output_name = os.path.splitext(filename)[0] + \".wav\"\n",
    "        # Save the wav file to the output directory\n",
    "        sound.export(os.path.join(WAV_VIE_FOLDER, output_name), format=\"wav\")"
   ]
  }
 ],
 "metadata": {
  "kernelspec": {
   "display_name": "Python 3",
   "language": "python",
   "name": "python3"
  },
  "language_info": {
   "codemirror_mode": {
    "name": "ipython",
    "version": 3
   },
   "file_extension": ".py",
   "mimetype": "text/x-python",
   "name": "python",
   "nbconvert_exporter": "python",
   "pygments_lexer": "ipython3",
   "version": "3.10.10"
  },
  "orig_nbformat": 4
 },
 "nbformat": 4,
 "nbformat_minor": 2
}
